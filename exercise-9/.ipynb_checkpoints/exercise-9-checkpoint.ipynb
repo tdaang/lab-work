{
 "cells": [
  {
   "cell_type": "markdown",
   "metadata": {},
   "source": [
    "1. How many fossils are in the dataset? 2947\n",
    "2. How many fossils have been identified to genus only? 614\n",
    "   species only? 2107\n",
    "3. How many unique accepted names are there? 212"
   ]
  },
  {
   "cell_type": "markdown",
   "metadata": {},
   "source": [
    "1. How can we change the sampling frequency of our PyRate run? -s 1000\n",
    "2. What does the -n flag achieve? change the mcmc generations\n"
   ]
  },
  {
   "cell_type": "markdown",
   "metadata": {},
   "source": [
    "## Summarizing PyRate output\n",
    "#### canid_occ_1_marginal_rates.log \n",
    "Tab-separated table with the posterior samples of the marginal rates of speciation, extinction, and net diversification, calculated within 1 time unit (typically Myr). \n",
    "\n",
    "\n",
    "#### canid_occ_1_mcmc.log \n",
    "Tab-separated table with the MCMC samples of the posterior, prior, likelihoods of the preservation process and of the birth-death (indicated by PP_lik and BD_lik, respectively), the preservation rate (q_rate), the shape parameter of its gamma-distributed heterogeneity (alpha), the number of sampled rate shifts (k_birth, k_death), the time of origin of the oldest lineage (root_age), the total branch length (tot_length), and the times of speciation and extinction of all taxa in the data set (\\_TS* and \\_TE, respectively). When using the TPP model of preservation, the preservation rates between shifts are indicated as *q_0, q_1, ... q_n (from older to younger).\n",
    "\n",
    "\n",
    "#### canid_occ_1_sum.txt\n",
    "Text file providing the complete list of settings used in the analysis. "
   ]
  },
  {
   "cell_type": "markdown",
   "metadata": {
    "collapsed": true
   },
   "source": [
    "# Homework"
   ]
  },
  {
   "cell_type": "markdown",
   "metadata": {},
   "source": [
    "1. \n",
    "a. Describe the changes in Speciation rates across the Canidae lineage: it remains constant up until around 30 million years ago at which point it began to decrease. the valley appears to peak at around 10 million years ago, at which point it begins to increase again.\n",
    "b. Describe the changes in Extinction rates across the Canidae lineage: it appears to remain constant for the majority of the time. However, there was a sharp increase around 1-2 million years ago.\n",
    "c. Describe the changes in Diversification rates across the Canidae lineage: it remained constant up until 30 million years ago. Between 30-5 million years ago, there was a gradual decrease, followed by an increase in diversification rates. however, in the past 1-2 million years, there has been a very sharp decrease in diversification rates.\n"
   ]
  }
 ],
 "metadata": {
  "anaconda-cloud": {},
  "kernelspec": {
   "display_name": "Python [conda root]",
   "language": "python",
   "name": "conda-root-py"
  },
  "language_info": {
   "codemirror_mode": {
    "name": "ipython",
    "version": 3
   },
   "file_extension": ".py",
   "mimetype": "text/x-python",
   "name": "python",
   "nbconvert_exporter": "python",
   "pygments_lexer": "ipython3",
   "version": "3.5.2"
  }
 },
 "nbformat": 4,
 "nbformat_minor": 2
}
